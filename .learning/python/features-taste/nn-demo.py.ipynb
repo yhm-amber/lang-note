{
	"cells": [
		{
			"cell_type": "code",
			"execution_count": 1,
			"id": "714bcf43-26af-420f-98fd-4cecbd7d7a31",
			"metadata": {},
			"outputs": [],
			"source": [
				"# Cell 1: 导入依赖\n",
				"import torch\n",
				"from torch import nn, optim"
			]
		},
		{
			"cell_type": "code",
			"execution_count": 2,
			"id": "9712567d-732e-4c11-930f-5d468f126bb0",
			"metadata": {},
			"outputs": [],
			"source": [
				"# Cell 2: 准备示例数据\n",
				"X = torch.tensor([[0.0], [1.0], [2.0], [3.0]])\n",
				"Y = torch.tensor([[0.0], [2.0], [4.0], [6.0]])"
			]
		},
		{
			"cell_type": "code",
			"execution_count": 3,
			"id": "671b4b54-a235-4dba-a71b-56d21dd3aa06",
			"metadata": {},
			"outputs": [],
			"source": [
				"# Cell 3: 定义模型函数\n",
				"def linear_model():\n",
				"\tlayer = nn.Linear(1, 1)\n",
				"\treturn layer"
			]
		},
		{
			"cell_type": "code",
			"execution_count": 4,
			"id": "2a4393ba-ea7e-4550-a858-6536dcb3ece3",
			"metadata": {},
			"outputs": [],
			"source": [
				"# Cell 4: 定义训练函数\n",
				"def train(model, x, y, lr=0.1, epochs=200):\n",
				"\toptimizer = optim.SGD(model.parameters(), lr=lr)\n",
				"\tloss_fn = nn.MSELoss()\n",
				"\tfor _ in range(epochs):\n",
				"\t\tpreds = model(x)\n",
				"\t\tloss = loss_fn(preds, y)\n",
				"\t\toptimizer.zero_grad()\n",
				"\t\tloss.backward()\n",
				"\t\toptimizer.step()\n",
				"\treturn model"
			]
		},
		{
			"cell_type": "code",
			"execution_count": 5,
			"id": "45121780-f5b3-4889-9cbc-75a15a93e71d",
			"metadata": {},
			"outputs": [],
			"source": [
				"# Cell 5: 实例化并训练\n",
				"model = linear_model()\n",
				"model = train(model, X, Y)"
			]
		},
		{
			"cell_type": "code",
			"execution_count": 6,
			"id": "4dbeede9-b498-45c1-825e-cb559d4bf456",
			"metadata": {},
			"outputs": [
				{
					"name": "stdout",
					"output_type": "stream",
					"text": [
						"tensor([[6.8747e-06],\n",
						"        [2.0000e+00],\n",
						"        [4.0000e+00],\n",
						"        [6.0000e+00]])\n"
					]
				}
			],
			"source": [
				"# Cell 6: 推理\n",
				"with torch.no_grad():\n",
				"\tpreds = model(X)\n",
				"print(preds)"
			]
		},
		{
			"cell_type": "code",
			"execution_count": null,
			"id": "1013745e-970d-44ca-82ca-c18af54f6e84",
			"metadata": {},
			"outputs": [],
			"source": [
				"#######################################"
			]
		},
		{
			"cell_type": "code",
			"execution_count": 5,
			"id": "a1126b00-81cc-4b6e-a1b2-00e94b0fbdac",
			"metadata": {},
			"outputs": [],
			"source": [
				"# Cell 1: 导入依赖并加载数据\n",
				"import pandas as pd\n",
				"import polars as pl\n",
				"import torch\n",
				"from torch import nn, optim\n",
				"from dfply import diamonds"
			]
		},
		{
			"cell_type": "code",
			"execution_count": 19,
			"id": "1c8a7dbf-cc23-4c7d-a277-fb6c6d13be3a",
			"metadata": {},
			"outputs": [
				{
					"data": {
						"text/html": [
							"<div><style>\n",
							".dataframe > thead > tr,\n",
							".dataframe > tbody > tr {\n",
							"  text-align: right;\n",
							"  white-space: pre-wrap;\n",
							"}\n",
							"</style>\n",
							"<small>shape: (53_940, 10)</small><table border=\"1\" class=\"dataframe\"><thead><tr><th>carat</th><th>cut</th><th>color</th><th>clarity</th><th>depth</th><th>table</th><th>price</th><th>x</th><th>y</th><th>z</th></tr><tr><td>f64</td><td>str</td><td>str</td><td>str</td><td>f64</td><td>f64</td><td>i64</td><td>f64</td><td>f64</td><td>f64</td></tr></thead><tbody><tr><td>0.23</td><td>&quot;Ideal&quot;</td><td>&quot;E&quot;</td><td>&quot;SI2&quot;</td><td>61.5</td><td>55.0</td><td>326</td><td>3.95</td><td>3.98</td><td>2.43</td></tr><tr><td>0.21</td><td>&quot;Premium&quot;</td><td>&quot;E&quot;</td><td>&quot;SI1&quot;</td><td>59.8</td><td>61.0</td><td>326</td><td>3.89</td><td>3.84</td><td>2.31</td></tr><tr><td>0.23</td><td>&quot;Good&quot;</td><td>&quot;E&quot;</td><td>&quot;VS1&quot;</td><td>56.9</td><td>65.0</td><td>327</td><td>4.05</td><td>4.07</td><td>2.31</td></tr><tr><td>0.29</td><td>&quot;Premium&quot;</td><td>&quot;I&quot;</td><td>&quot;VS2&quot;</td><td>62.4</td><td>58.0</td><td>334</td><td>4.2</td><td>4.23</td><td>2.63</td></tr><tr><td>0.31</td><td>&quot;Good&quot;</td><td>&quot;J&quot;</td><td>&quot;SI2&quot;</td><td>63.3</td><td>58.0</td><td>335</td><td>4.34</td><td>4.35</td><td>2.75</td></tr><tr><td>&hellip;</td><td>&hellip;</td><td>&hellip;</td><td>&hellip;</td><td>&hellip;</td><td>&hellip;</td><td>&hellip;</td><td>&hellip;</td><td>&hellip;</td><td>&hellip;</td></tr><tr><td>0.72</td><td>&quot;Ideal&quot;</td><td>&quot;D&quot;</td><td>&quot;SI1&quot;</td><td>60.8</td><td>57.0</td><td>2757</td><td>5.75</td><td>5.76</td><td>3.5</td></tr><tr><td>0.72</td><td>&quot;Good&quot;</td><td>&quot;D&quot;</td><td>&quot;SI1&quot;</td><td>63.1</td><td>55.0</td><td>2757</td><td>5.69</td><td>5.75</td><td>3.61</td></tr><tr><td>0.7</td><td>&quot;Very Good&quot;</td><td>&quot;D&quot;</td><td>&quot;SI1&quot;</td><td>62.8</td><td>60.0</td><td>2757</td><td>5.66</td><td>5.68</td><td>3.56</td></tr><tr><td>0.86</td><td>&quot;Premium&quot;</td><td>&quot;H&quot;</td><td>&quot;SI2&quot;</td><td>61.0</td><td>58.0</td><td>2757</td><td>6.15</td><td>6.12</td><td>3.74</td></tr><tr><td>0.75</td><td>&quot;Ideal&quot;</td><td>&quot;D&quot;</td><td>&quot;SI2&quot;</td><td>62.2</td><td>55.0</td><td>2757</td><td>5.83</td><td>5.87</td><td>3.64</td></tr></tbody></table></div>"
						],
						"text/plain": [
							"shape: (53_940, 10)\n",
							"┌───────┬───────────┬───────┬─────────┬───┬───────┬──────┬──────┬──────┐\n",
							"│ carat ┆ cut       ┆ color ┆ clarity ┆ … ┆ price ┆ x    ┆ y    ┆ z    │\n",
							"│ ---   ┆ ---       ┆ ---   ┆ ---     ┆   ┆ ---   ┆ ---  ┆ ---  ┆ ---  │\n",
							"│ f64   ┆ str       ┆ str   ┆ str     ┆   ┆ i64   ┆ f64  ┆ f64  ┆ f64  │\n",
							"╞═══════╪═══════════╪═══════╪═════════╪═══╪═══════╪══════╪══════╪══════╡\n",
							"│ 0.23  ┆ Ideal     ┆ E     ┆ SI2     ┆ … ┆ 326   ┆ 3.95 ┆ 3.98 ┆ 2.43 │\n",
							"│ 0.21  ┆ Premium   ┆ E     ┆ SI1     ┆ … ┆ 326   ┆ 3.89 ┆ 3.84 ┆ 2.31 │\n",
							"│ 0.23  ┆ Good      ┆ E     ┆ VS1     ┆ … ┆ 327   ┆ 4.05 ┆ 4.07 ┆ 2.31 │\n",
							"│ 0.29  ┆ Premium   ┆ I     ┆ VS2     ┆ … ┆ 334   ┆ 4.2  ┆ 4.23 ┆ 2.63 │\n",
							"│ 0.31  ┆ Good      ┆ J     ┆ SI2     ┆ … ┆ 335   ┆ 4.34 ┆ 4.35 ┆ 2.75 │\n",
							"│ …     ┆ …         ┆ …     ┆ …       ┆ … ┆ …     ┆ …    ┆ …    ┆ …    │\n",
							"│ 0.72  ┆ Ideal     ┆ D     ┆ SI1     ┆ … ┆ 2757  ┆ 5.75 ┆ 5.76 ┆ 3.5  │\n",
							"│ 0.72  ┆ Good      ┆ D     ┆ SI1     ┆ … ┆ 2757  ┆ 5.69 ┆ 5.75 ┆ 3.61 │\n",
							"│ 0.7   ┆ Very Good ┆ D     ┆ SI1     ┆ … ┆ 2757  ┆ 5.66 ┆ 5.68 ┆ 3.56 │\n",
							"│ 0.86  ┆ Premium   ┆ H     ┆ SI2     ┆ … ┆ 2757  ┆ 6.15 ┆ 6.12 ┆ 3.74 │\n",
							"│ 0.75  ┆ Ideal     ┆ D     ┆ SI2     ┆ … ┆ 2757  ┆ 5.83 ┆ 5.87 ┆ 3.64 │\n",
							"└───────┴───────────┴───────┴─────────┴───┴───────┴──────┴──────┴──────┘"
						]
					},
					"execution_count": 19,
					"metadata": {},
					"output_type": "execute_result"
				}
			],
			"source": [
				"df = pl.DataFrame(diamonds.copy())\n",
				"# df = diamonds.copy()\n",
				"df"
			]
		},
		{
			"cell_type": "code",
			"execution_count": 20,
			"id": "fc9f9fcd-1f25-4f6e-8622-6348ae4ec0ea",
			"metadata": {},
			"outputs": [
				{
					"data": {
						"text/html": [
							"<div><style>\n",
							".dataframe > thead > tr,\n",
							".dataframe > tbody > tr {\n",
							"  text-align: right;\n",
							"  white-space: pre-wrap;\n",
							"}\n",
							"</style>\n",
							"<small>shape: (53_940, 27)</small><table border=\"1\" class=\"dataframe\"><thead><tr><th>carat</th><th>cut_Fair</th><th>cut_Good</th><th>cut_Ideal</th><th>cut_Premium</th><th>cut_Very Good</th><th>color_D</th><th>color_E</th><th>color_F</th><th>color_G</th><th>color_H</th><th>color_I</th><th>color_J</th><th>clarity_I1</th><th>clarity_IF</th><th>clarity_SI1</th><th>clarity_SI2</th><th>clarity_VS1</th><th>clarity_VS2</th><th>clarity_VVS1</th><th>clarity_VVS2</th><th>depth</th><th>table</th><th>price</th><th>x</th><th>y</th><th>z</th></tr><tr><td>f64</td><td>u8</td><td>u8</td><td>u8</td><td>u8</td><td>u8</td><td>u8</td><td>u8</td><td>u8</td><td>u8</td><td>u8</td><td>u8</td><td>u8</td><td>u8</td><td>u8</td><td>u8</td><td>u8</td><td>u8</td><td>u8</td><td>u8</td><td>u8</td><td>f64</td><td>f64</td><td>i64</td><td>f64</td><td>f64</td><td>f64</td></tr></thead><tbody><tr><td>0.23</td><td>0</td><td>0</td><td>1</td><td>0</td><td>0</td><td>0</td><td>1</td><td>0</td><td>0</td><td>0</td><td>0</td><td>0</td><td>0</td><td>0</td><td>0</td><td>1</td><td>0</td><td>0</td><td>0</td><td>0</td><td>61.5</td><td>55.0</td><td>326</td><td>3.95</td><td>3.98</td><td>2.43</td></tr><tr><td>0.21</td><td>0</td><td>0</td><td>0</td><td>1</td><td>0</td><td>0</td><td>1</td><td>0</td><td>0</td><td>0</td><td>0</td><td>0</td><td>0</td><td>0</td><td>1</td><td>0</td><td>0</td><td>0</td><td>0</td><td>0</td><td>59.8</td><td>61.0</td><td>326</td><td>3.89</td><td>3.84</td><td>2.31</td></tr><tr><td>0.23</td><td>0</td><td>1</td><td>0</td><td>0</td><td>0</td><td>0</td><td>1</td><td>0</td><td>0</td><td>0</td><td>0</td><td>0</td><td>0</td><td>0</td><td>0</td><td>0</td><td>1</td><td>0</td><td>0</td><td>0</td><td>56.9</td><td>65.0</td><td>327</td><td>4.05</td><td>4.07</td><td>2.31</td></tr><tr><td>0.29</td><td>0</td><td>0</td><td>0</td><td>1</td><td>0</td><td>0</td><td>0</td><td>0</td><td>0</td><td>0</td><td>1</td><td>0</td><td>0</td><td>0</td><td>0</td><td>0</td><td>0</td><td>1</td><td>0</td><td>0</td><td>62.4</td><td>58.0</td><td>334</td><td>4.2</td><td>4.23</td><td>2.63</td></tr><tr><td>0.31</td><td>0</td><td>1</td><td>0</td><td>0</td><td>0</td><td>0</td><td>0</td><td>0</td><td>0</td><td>0</td><td>0</td><td>1</td><td>0</td><td>0</td><td>0</td><td>1</td><td>0</td><td>0</td><td>0</td><td>0</td><td>63.3</td><td>58.0</td><td>335</td><td>4.34</td><td>4.35</td><td>2.75</td></tr><tr><td>&hellip;</td><td>&hellip;</td><td>&hellip;</td><td>&hellip;</td><td>&hellip;</td><td>&hellip;</td><td>&hellip;</td><td>&hellip;</td><td>&hellip;</td><td>&hellip;</td><td>&hellip;</td><td>&hellip;</td><td>&hellip;</td><td>&hellip;</td><td>&hellip;</td><td>&hellip;</td><td>&hellip;</td><td>&hellip;</td><td>&hellip;</td><td>&hellip;</td><td>&hellip;</td><td>&hellip;</td><td>&hellip;</td><td>&hellip;</td><td>&hellip;</td><td>&hellip;</td><td>&hellip;</td></tr><tr><td>0.72</td><td>0</td><td>0</td><td>1</td><td>0</td><td>0</td><td>1</td><td>0</td><td>0</td><td>0</td><td>0</td><td>0</td><td>0</td><td>0</td><td>0</td><td>1</td><td>0</td><td>0</td><td>0</td><td>0</td><td>0</td><td>60.8</td><td>57.0</td><td>2757</td><td>5.75</td><td>5.76</td><td>3.5</td></tr><tr><td>0.72</td><td>0</td><td>1</td><td>0</td><td>0</td><td>0</td><td>1</td><td>0</td><td>0</td><td>0</td><td>0</td><td>0</td><td>0</td><td>0</td><td>0</td><td>1</td><td>0</td><td>0</td><td>0</td><td>0</td><td>0</td><td>63.1</td><td>55.0</td><td>2757</td><td>5.69</td><td>5.75</td><td>3.61</td></tr><tr><td>0.7</td><td>0</td><td>0</td><td>0</td><td>0</td><td>1</td><td>1</td><td>0</td><td>0</td><td>0</td><td>0</td><td>0</td><td>0</td><td>0</td><td>0</td><td>1</td><td>0</td><td>0</td><td>0</td><td>0</td><td>0</td><td>62.8</td><td>60.0</td><td>2757</td><td>5.66</td><td>5.68</td><td>3.56</td></tr><tr><td>0.86</td><td>0</td><td>0</td><td>0</td><td>1</td><td>0</td><td>0</td><td>0</td><td>0</td><td>0</td><td>1</td><td>0</td><td>0</td><td>0</td><td>0</td><td>0</td><td>1</td><td>0</td><td>0</td><td>0</td><td>0</td><td>61.0</td><td>58.0</td><td>2757</td><td>6.15</td><td>6.12</td><td>3.74</td></tr><tr><td>0.75</td><td>0</td><td>0</td><td>1</td><td>0</td><td>0</td><td>1</td><td>0</td><td>0</td><td>0</td><td>0</td><td>0</td><td>0</td><td>0</td><td>0</td><td>0</td><td>1</td><td>0</td><td>0</td><td>0</td><td>0</td><td>62.2</td><td>55.0</td><td>2757</td><td>5.83</td><td>5.87</td><td>3.64</td></tr></tbody></table></div>"
						],
						"text/plain": [
							"shape: (53_940, 27)\n",
							"┌───────┬──────────┬──────────┬───────────┬───┬───────┬──────┬──────┬──────┐\n",
							"│ carat ┆ cut_Fair ┆ cut_Good ┆ cut_Ideal ┆ … ┆ price ┆ x    ┆ y    ┆ z    │\n",
							"│ ---   ┆ ---      ┆ ---      ┆ ---       ┆   ┆ ---   ┆ ---  ┆ ---  ┆ ---  │\n",
							"│ f64   ┆ u8       ┆ u8       ┆ u8        ┆   ┆ i64   ┆ f64  ┆ f64  ┆ f64  │\n",
							"╞═══════╪══════════╪══════════╪═══════════╪═══╪═══════╪══════╪══════╪══════╡\n",
							"│ 0.23  ┆ 0        ┆ 0        ┆ 1         ┆ … ┆ 326   ┆ 3.95 ┆ 3.98 ┆ 2.43 │\n",
							"│ 0.21  ┆ 0        ┆ 0        ┆ 0         ┆ … ┆ 326   ┆ 3.89 ┆ 3.84 ┆ 2.31 │\n",
							"│ 0.23  ┆ 0        ┆ 1        ┆ 0         ┆ … ┆ 327   ┆ 4.05 ┆ 4.07 ┆ 2.31 │\n",
							"│ 0.29  ┆ 0        ┆ 0        ┆ 0         ┆ … ┆ 334   ┆ 4.2  ┆ 4.23 ┆ 2.63 │\n",
							"│ 0.31  ┆ 0        ┆ 1        ┆ 0         ┆ … ┆ 335   ┆ 4.34 ┆ 4.35 ┆ 2.75 │\n",
							"│ …     ┆ …        ┆ …        ┆ …         ┆ … ┆ …     ┆ …    ┆ …    ┆ …    │\n",
							"│ 0.72  ┆ 0        ┆ 0        ┆ 1         ┆ … ┆ 2757  ┆ 5.75 ┆ 5.76 ┆ 3.5  │\n",
							"│ 0.72  ┆ 0        ┆ 1        ┆ 0         ┆ … ┆ 2757  ┆ 5.69 ┆ 5.75 ┆ 3.61 │\n",
							"│ 0.7   ┆ 0        ┆ 0        ┆ 0         ┆ … ┆ 2757  ┆ 5.66 ┆ 5.68 ┆ 3.56 │\n",
							"│ 0.86  ┆ 0        ┆ 0        ┆ 0         ┆ … ┆ 2757  ┆ 6.15 ┆ 6.12 ┆ 3.74 │\n",
							"│ 0.75  ┆ 0        ┆ 0        ┆ 1         ┆ … ┆ 2757  ┆ 5.83 ┆ 5.87 ┆ 3.64 │\n",
							"└───────┴──────────┴──────────┴───────────┴───┴───────┴──────┴──────┴──────┘"
						]
					},
					"execution_count": 20,
					"metadata": {},
					"output_type": "execute_result"
				}
			],
			"source": [
				"# Cell 2: 特征编码与张量转换\n",
				"# one-hot 编码分类特征\n",
				"# df_encoded = pd.get_dummies(df, columns=[\"cut\",\"color\",\"clarity\"], drop_first=True)\n",
				"df_encoded = df.to_dummies(columns=[\"cut\", \"color\", \"clarity\"])\n",
				"df_encoded"
			]
		},
		{
			"cell_type": "code",
			"execution_count": 24,
			"id": "d8ce9ace-f9f7-4c5f-b823-43fac5368166",
			"metadata": {},
			"outputs": [
				{
					"name": "stdout",
					"output_type": "stream",
					"text": [
						"[[ 0.23 61.5  55.   ...  0.    0.    0.  ]\n",
						" [ 0.21 59.8  61.   ...  0.    0.    0.  ]\n",
						" [ 0.23 56.9  65.   ...  0.    0.    0.  ]\n",
						" ...\n",
						" [ 0.7  62.8  60.   ...  0.    0.    0.  ]\n",
						" [ 0.86 61.   58.   ...  0.    0.    0.  ]\n",
						" [ 0.75 62.2  55.   ...  0.    0.    0.  ]]\n",
						"[[3.260e+02 3.950e+00 3.980e+00 2.430e+00]\n",
						" [3.260e+02 3.890e+00 3.840e+00 2.310e+00]\n",
						" [3.270e+02 4.050e+00 4.070e+00 2.310e+00]\n",
						" ...\n",
						" [2.757e+03 5.660e+00 5.680e+00 3.560e+00]\n",
						" [2.757e+03 6.150e+00 6.120e+00 3.740e+00]\n",
						" [2.757e+03 5.830e+00 5.870e+00 3.640e+00]]\n",
						"tensor([[ 0.2300, 61.5000, 55.0000,  ...,  0.0000,  0.0000,  0.0000],\n",
						"        [ 0.2100, 59.8000, 61.0000,  ...,  0.0000,  0.0000,  0.0000],\n",
						"        [ 0.2300, 56.9000, 65.0000,  ...,  0.0000,  0.0000,  0.0000],\n",
						"        ...,\n",
						"        [ 0.7000, 62.8000, 60.0000,  ...,  0.0000,  0.0000,  0.0000],\n",
						"        [ 0.8600, 61.0000, 58.0000,  ...,  0.0000,  0.0000,  0.0000],\n",
						"        [ 0.7500, 62.2000, 55.0000,  ...,  0.0000,  0.0000,  0.0000]])\n",
						"tensor([[3.2600e+02, 3.9500e+00, 3.9800e+00, 2.4300e+00],\n",
						"        [3.2600e+02, 3.8900e+00, 3.8400e+00, 2.3100e+00],\n",
						"        [3.2700e+02, 4.0500e+00, 4.0700e+00, 2.3100e+00],\n",
						"        ...,\n",
						"        [2.7570e+03, 5.6600e+00, 5.6800e+00, 3.5600e+00],\n",
						"        [2.7570e+03, 6.1500e+00, 6.1200e+00, 3.7400e+00],\n",
						"        [2.7570e+03, 5.8300e+00, 5.8700e+00, 3.6400e+00]])\n"
					]
				}
			],
			"source": [
				"# 选择输入列和输出列\n",
				"input_cols  = [\"carat\", \"depth\", \"table\"] + [\n",
				"\t# c for c in df_encoded.columns if c.startswith(\"cut_\") or c.startswith(\"color_\") or c.startswith(\"clarity_\")\n",
				"\tcol for col in df_encoded.columns if col.startswith(\"cut_\") or col.startswith(\"color_\") or col.startswith(\"clarity_\")\n",
				"]\n",
				"output_cols = [\"price\", \"x\", \"y\", \"z\"]\n",
				"\n",
				"print(df_encoded.select(input_cols).to_numpy())\n",
				"print(df_encoded.select(output_cols).to_numpy())\n",
				"\n",
				"# X = torch.tensor(df[input_cols].values, dtype=torch.float32)\n",
				"# Y = torch.tensor(df[output_cols].values, dtype=torch.float32)\n",
				"X = torch.tensor(df_encoded.select(input_cols).to_numpy(), dtype=torch.float32)\n",
				"Y = torch.tensor(df_encoded.select(output_cols).to_numpy(), dtype=torch.float32)\n",
				"\n",
				"print(X)\n",
				"print(Y)"
			]
		},
		{
			"cell_type": "code",
			"execution_count": 26,
			"id": "8d0c0900-452c-4e01-88ac-cdfbef7ab5e2",
			"metadata": {},
			"outputs": [
				{
					"name": "stdout",
					"output_type": "stream",
					"text": [
						"<torch.utils.data.dataset.TensorDataset object at 0x7f32d72796c0>\n",
						"<torch.utils.data.dataloader.DataLoader object at 0x7f32d7279660>\n"
					]
				}
			],
			"source": [
				"# Cell 3: 构建数据加载器\n",
				"dataset = torch.utils.data.TensorDataset(X, Y)\n",
				"loader  = torch.utils.data.DataLoader(dataset, batch_size=256, shuffle=True)\n",
				"\n",
				"print(dataset)\n",
				"print(loader)"
			]
		},
		{
			"cell_type": "code",
			"execution_count": 34,
			"id": "fb6a7521-359b-4208-bea7-8a037a904489",
			"metadata": {},
			"outputs": [],
			"source": [
				"# Cell 4: 定义模型\n",
				"class DiamondRegressor(nn.Module):\n",
				"\tdef __init__(self, in_dim, out_dim):\n",
				"\t\tsuper().__init__()\n",
				"\t\tself.net = nn.Sequential(\n",
				"\t\t\tnn.Linear(in_dim, 64),\n",
				"\t\t\tnn.ReLU(),\n",
				"\t\t\tnn.Linear(64, out_dim)\n",
				"\t\t)\n",
				"\tdef forward(self, x):\n",
				"\t\treturn self.net(x)\n",
				"\n",
				"model = DiamondRegressor(X.shape[1], Y.shape[1])"
			]
		},
		{
			"cell_type": "code",
			"execution_count": 35,
			"id": "6ab4123e-c705-4b0c-81b5-cb1dc0a923fe",
			"metadata": {},
			"outputs": [
				{
					"name": "stdout",
					"output_type": "stream",
					"text": [
						"Epoch 1/20, Loss: 7601426.2227\n",
						"Epoch 2/20, Loss: 6365256.3614\n",
						"Epoch 3/20, Loss: 4855984.8827\n",
						"Epoch 4/20, Loss: 4101397.4550\n",
						"Epoch 5/20, Loss: 3939362.8045\n",
						"Epoch 6/20, Loss: 3920747.0675\n",
						"Epoch 7/20, Loss: 3910894.9396\n",
						"Epoch 8/20, Loss: 3903147.7855\n",
						"Epoch 9/20, Loss: 3892079.4360\n",
						"Epoch 10/20, Loss: 3881204.7382\n",
						"Epoch 11/20, Loss: 3868176.7180\n",
						"Epoch 12/20, Loss: 3855031.9159\n",
						"Epoch 13/20, Loss: 3840662.3175\n",
						"Epoch 14/20, Loss: 3819131.1706\n",
						"Epoch 15/20, Loss: 3801144.4206\n",
						"Epoch 16/20, Loss: 3779823.8969\n",
						"Epoch 17/20, Loss: 3757295.6576\n",
						"Epoch 18/20, Loss: 3732965.6836\n",
						"Epoch 19/20, Loss: 3706975.0616\n",
						"Epoch 20/20, Loss: 3681913.0664\n"
					]
				}
			],
			"source": [
				"# Cell 5: 训练函数\n",
				"def train(model, loader, lr=1e-3, epochs=20, epoch_hint = False):\n",
				"\topt = optim.Adam(model.parameters(), lr=lr)\n",
				"\tloss_fn = nn.MSELoss()\n",
				"\tfor epoch in range(epochs):\n",
				"\t\ttotal_loss = 0\n",
				"\t\tcount = 0\n",
				"\t\tfor xb, yb in loader:\n",
				"\t\t\tpreds = model(xb)\n",
				"\t\t\tloss  = loss_fn(preds, yb)\n",
				"\t\t\topt.zero_grad()\n",
				"\t\t\tloss.backward()\n",
				"\t\t\topt.step()\n",
				"\t\t\ttotal_loss += loss.item()\n",
				"\t\t\tcount += 1\n",
				"\t\tif epoch_hint is True: print(f\"Epoch {epoch+1}/{epochs}, Loss: {(total_loss / count):.4f}\")\n",
				"\treturn model\n",
				"\n",
				"model = train(model, loader, epoch_hint = True)"
			]
		},
		{
			"cell_type": "code",
			"execution_count": 36,
			"id": "f87c408e-d45c-4e92-a2a1-7b474c522ae0",
			"metadata": {},
			"outputs": [
				{
					"name": "stdout",
					"output_type": "stream",
					"text": [
						"Epoch 1/12, Loss: 3655039.8092\n",
						"Epoch 2/12, Loss: 3629140.9017\n",
						"Epoch 3/12, Loss: 3601229.6445\n",
						"Epoch 4/12, Loss: 3574243.1611\n",
						"Epoch 5/12, Loss: 3543397.4597\n",
						"Epoch 6/12, Loss: 3513506.6943\n",
						"Epoch 7/12, Loss: 3480259.5012\n",
						"Epoch 8/12, Loss: 3446525.9538\n",
						"Epoch 9/12, Loss: 3412928.2275\n",
						"Epoch 10/12, Loss: 3376254.7701\n",
						"Epoch 11/12, Loss: 3338831.2749\n",
						"Epoch 12/12, Loss: 3301236.1659\n"
					]
				}
			],
			"source": [
				"model = train(model, loader, epoch_hint = True, epochs = 12)\n",
				"model = train(model, loader, epochs = 1024)"
			]
		},
		{
			"cell_type": "code",
			"execution_count": 37,
			"id": "db8b7610-5244-469a-aaf5-0989e013b486",
			"metadata": {},
			"outputs": [
				{
					"name": "stdout",
					"output_type": "stream",
					"text": [
						"Epoch 1/7, Loss: 334661.9546\n",
						"Epoch 2/7, Loss: 334475.4819\n",
						"Epoch 3/7, Loss: 334504.0910\n",
						"Epoch 4/7, Loss: 334492.6707\n",
						"Epoch 5/7, Loss: 334636.6874\n",
						"Epoch 6/7, Loss: 334397.7912\n",
						"Epoch 7/7, Loss: 334429.2247\n"
					]
				}
			],
			"source": [
				"model = train(model, loader, epoch_hint = True, epochs = 7)"
			]
		},
		{
			"cell_type": "code",
			"execution_count": 38,
			"id": "83148d8d-5a76-4a5b-a031-d390875f59ef",
			"metadata": {},
			"outputs": [],
			"source": [
				"# Cell 6: 单行输入推理\n",
				"\n",
				"# def predict_row(model, row_dict):\n",
				"# \tdf_row = pd.DataFrame([row_dict])\n",
				"# \tdf_row = pd.get_dummies(df_row, columns=[\"cut\",\"color\",\"clarity\"], drop_first=True)\n",
				"# \t# 对齐所有 one-hot 列\n",
				"# \tfor col in X.shape[1] - 6 and df.columns:\n",
				"# \t\tif col not in df_row:\n",
				"# \t\t\tdf_row[col] = 0\n",
				"# \tx = torch.tensor(df_row[X.shape[1]-X.shape[1]:].values, dtype=torch.float32)\n",
				"# \twith torch.no_grad():\n",
				"# \t\ty = model(x)\n",
				"# \treturn y.numpy()[0]\n",
				"\n",
				"# 假设 input_cols 是训练时的列顺序\n",
				"def predict_row(sample, model, input_cols):\n",
				"\t# 将 sample 转为 Polars DataFrame\n",
				"\tdf_sample = pl.DataFrame([sample])\n",
				"\t# One-hot 编码\n",
				"\tdf_encoded = df_sample.to_dummies(columns=[\"cut\", \"color\", \"clarity\"])\n",
				"\t# 补齐缺失列\n",
				"\tfor col in input_cols:\n",
				"\t\tif col not in df_encoded.columns:\n",
				"\t\t\tdf_encoded = df_encoded.with_columns(pl.lit(0).alias(col))\n",
				"\t# 按顺序排列列\n",
				"\tdf_encoded = df_encoded.select(input_cols)\n",
				"\t# 转为 tensor\n",
				"\tx = torch.tensor(df_encoded.to_numpy(), dtype=torch.float32)\n",
				"\t# 模型预测\n",
				"\twith torch.no_grad():\n",
				"\t\tprediction = model(x).numpy()\n",
				"\treturn prediction"
			]
		},
		{
			"cell_type": "code",
			"execution_count": 39,
			"id": "dd7ab1cf-a198-446d-a20f-c21327a09b33",
			"metadata": {},
			"outputs": [
				{
					"name": "stdout",
					"output_type": "stream",
					"text": [
						"[[2122.8896       4.9385304    5.089703     3.0139039]]\n"
					]
				}
			],
			"source": [
				"# 示例用法\n",
				"sample = {\n",
				"\t\"carat\":0.5, \"cut\":\"Ideal\", \"color\":\"E\", \"clarity\":\"VS2\",\n",
				"\t\"depth\":61.0, \"table\":55.0\n",
				"}\n",
				"\n",
				"# print(predict_row(model, sample))\n",
				"print(predict_row(sample, model, input_cols))"
			]
		},
		{
			"cell_type": "code",
			"execution_count": null,
			"id": "89f37524-2a11-4a4c-b427-4a3de3aa238b",
			"metadata": {},
			"outputs": [],
			"source": []
		}
	],
	"metadata": {
		"kernelspec": {
			"display_name": "IPython (user venv y)",
			"language": "python",
			"name": "y"
		},
		"language_info": {
			"codemirror_mode": {
				"name": "ipython",
				"version": 3
			},
			"file_extension": ".py",
			"mimetype": "text/x-python",
			"name": "python",
			"nbconvert_exporter": "python",
			"pygments_lexer": "ipython3",
			"version": "3.10.12"
		}
	},
	"nbformat": 4,
	"nbformat_minor": 5
}
