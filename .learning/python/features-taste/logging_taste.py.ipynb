{
 "cells": [
  {
   "cell_type": "code",
   "execution_count": null,
   "id": "13211587-0e54-4f4f-bf21-7e56904b42fc",
   "metadata": {},
   "outputs": [],
   "source": [
    "# logging_taste.py.ipynb"
   ]
  },
  {
   "cell_type": "code",
   "execution_count": 1,
   "id": "27001927-3b39-40ca-9928-7eeaeab076b4",
   "metadata": {},
   "outputs": [],
   "source": [
    "import logging"
   ]
  },
  {
   "cell_type": "code",
   "execution_count": 4,
   "id": "a985336f-323a-4f6d-9cec-47d81c80451f",
   "metadata": {},
   "outputs": [],
   "source": [
    "logging.basicConfig(level=logging.INFO)\n",
    "logging.info(\"AAA\")"
   ]
  },
  {
   "cell_type": "code",
   "execution_count": 5,
   "id": "6eae6c26-9a8a-4072-9242-b06411ad984b",
   "metadata": {},
   "outputs": [
    {
     "name": "stderr",
     "output_type": "stream",
     "text": [
      "WARNING:root:这是一个警告\n",
      "ERROR:root:发生了错误\n"
     ]
    }
   ],
   "source": [
    "import logging\n",
    "\n",
    "# 设置日志级别和输出格式\n",
    "logging.basicConfig(\n",
    "    level=logging.INFO,  # 设置最低输出级别为 INFO\n",
    "    format='%(levelname)s: %(message)s'  # 简洁格式，只显示级别和消息\n",
    ")\n",
    "\n",
    "# 示例日志\n",
    "logging.info(\"开始处理数据\")\n",
    "logging.warning(\"这是一个警告\")\n",
    "logging.error(\"发生了错误\")"
   ]
  },
  {
   "cell_type": "code",
   "execution_count": 6,
   "id": "edfabd20-9058-4c00-8e27-5c5f34fcd8c7",
   "metadata": {},
   "outputs": [],
   "source": [
    "# 获取 root logger\n",
    "logger = logging.getLogger()\n",
    "logger.setLevel(logging.INFO)  # 设置最低日志级别为 INFO"
   ]
  },
  {
   "cell_type": "code",
   "execution_count": 7,
   "id": "c38d5a2b-109d-401d-8440-47c7ef733fe4",
   "metadata": {},
   "outputs": [
    {
     "data": {
      "text/plain": [
       "[<StreamHandler stderr (NOTSET)>]"
      ]
     },
     "execution_count": 7,
     "metadata": {},
     "output_type": "execute_result"
    }
   ],
   "source": [
    "logger.handlers"
   ]
  },
  {
   "cell_type": "code",
   "execution_count": 8,
   "id": "67a3e22c-6fb5-4c33-89b2-456624c294d4",
   "metadata": {},
   "outputs": [
    {
     "data": {
      "text/plain": [
       "False"
      ]
     },
     "execution_count": 8,
     "metadata": {},
     "output_type": "execute_result"
    }
   ],
   "source": [
    "not logger.handlers"
   ]
  },
  {
   "cell_type": "code",
   "execution_count": 10,
   "id": "71b7013a-649d-4e37-b2db-55f4950d5411",
   "metadata": {},
   "outputs": [],
   "source": [
    "# 如果没有 handler，就添加一个控制台输出 handler\n",
    "if not logger.handlers:\n",
    "    console = logging.StreamHandler()\n",
    "    console.setLevel(logging.INFO)\n",
    "    formatter = logging.Formatter('%(levelname)s: %(message)s')\n",
    "    console.setFormatter(formatter)\n",
    "    logger.addHandler(console)"
   ]
  },
  {
   "cell_type": "code",
   "execution_count": 11,
   "id": "4ee3f6c0-c42b-4371-8b33-02511318bcac",
   "metadata": {},
   "outputs": [
    {
     "name": "stderr",
     "output_type": "stream",
     "text": [
      "INFO:root:这是 INFO 信息\n",
      "WARNING:root:这是 WARNING 信息\n",
      "ERROR:root:这是 ERROR 信息\n"
     ]
    }
   ],
   "source": [
    "# 测试输出\n",
    "logger.debug(\"这是 DEBUG 信息\")\n",
    "logger.info(\"这是 INFO 信息\")\n",
    "logger.warning(\"这是 WARNING 信息\")\n",
    "logger.error(\"这是 ERROR 信息\")"
   ]
  },
  {
   "cell_type": "code",
   "execution_count": 12,
   "id": "800bc5e8-3d61-4670-b06b-17bd47736eac",
   "metadata": {},
   "outputs": [],
   "source": [
    "from colorama import init, Fore, Back, Style"
   ]
  },
  {
   "cell_type": "code",
   "execution_count": 17,
   "id": "42d8e1c1-3e9d-4671-bbd7-73d6e59cd01c",
   "metadata": {},
   "outputs": [
    {
     "name": "stderr",
     "output_type": "stream",
     "text": [
      "INFO:root:\u001b[45m这是 INFO 信息\n",
      "WARNING:root:这是 WARNING 信息\u001b[0m\n",
      "ERROR:root:这是 ERROR 信息\n"
     ]
    }
   ],
   "source": [
    "# 测试输出\n",
    "logger.debug(\"这是 DEBUG 信息\")\n",
    "logger.info(Back.MAGENTA + \"这是 INFO 信息\")\n",
    "logger.warning(\"这是 WARNING 信息\" + Style.RESET_ALL)\n",
    "logger.error(\"这是 ERROR 信息\")"
   ]
  },
  {
   "cell_type": "code",
   "execution_count": 20,
   "id": "3e90f367-030b-4e73-ad15-48dcd5eeb56e",
   "metadata": {},
   "outputs": [],
   "source": [
    "logger.handlers.clear()\n",
    "import sys\n",
    "\n",
    "# 添加写入 stdout 的 handler\n",
    "console_handler = logging.StreamHandler(stream=sys.stdout)\n",
    "console_handler.setFormatter(logging.Formatter('%(levelname)s: %(message)s'))\n",
    "logger.addHandler(console_handler)"
   ]
  },
  {
   "cell_type": "code",
   "execution_count": 21,
   "id": "163f318d-08df-4a93-9973-65f3b6930008",
   "metadata": {},
   "outputs": [
    {
     "name": "stdout",
     "output_type": "stream",
     "text": [
      "INFO: 这是写入标准输出的信息\n",
      "WARNING: 这是警告信息\n",
      "ERROR: 这是错误信息\n"
     ]
    }
   ],
   "source": [
    "# 测试输出\n",
    "logger.info(\"这是写入标准输出的信息\")\n",
    "logger.warning(\"这是警告信息\")\n",
    "logger.error(\"这是错误信息\")"
   ]
  },
  {
   "cell_type": "code",
   "execution_count": 22,
   "id": "f055476e-1429-49dd-a08d-24c21ea77de9",
   "metadata": {},
   "outputs": [],
   "source": [
    "# 创建命名 logger\n",
    "logger_a = logging.getLogger(\"A\") # logging.getLogger(__name__)\n",
    "logger_a.setLevel(logging.INFO)"
   ]
  },
  {
   "cell_type": "code",
   "execution_count": 23,
   "id": "ca73b663-3953-432d-b490-bbed68616731",
   "metadata": {},
   "outputs": [
    {
     "name": "stdout",
     "output_type": "stream",
     "text": [
      "INFO: 这是 logger A 的标准输出信息\n",
      "INFO: 这是 logger A 的标准输出信息\n"
     ]
    }
   ],
   "source": [
    "# 清除已有 handler（防止重复输出）\n",
    "logger_a.handlers.clear()\n",
    "\n",
    "# 添加写入 stdout 的 handler\n",
    "console_handler = logging.StreamHandler(stream=sys.stdout)\n",
    "console_handler.setFormatter(logging.Formatter('%(levelname)s: %(message)s'))\n",
    "logger_a.addHandler(console_handler)\n",
    "\n",
    "# 测试输出\n",
    "logger_a.info(\"这是 logger A 的标准输出信息\")"
   ]
  },
  {
   "cell_type": "code",
   "execution_count": 24,
   "id": "962283e6-359d-4877-8e34-ae7982b422b3",
   "metadata": {},
   "outputs": [
    {
     "name": "stdout",
     "output_type": "stream",
     "text": [
      "INFO: 这是 logger A 的标准输出信息\n"
     ]
    }
   ],
   "source": [
    "logger_a.propagate = False  # 阻止向父 logger 传播\n",
    "logger_a.info(\"这是 logger A 的标准输出信息\")"
   ]
  },
  {
   "cell_type": "code",
   "execution_count": null,
   "id": "66120638-9a1e-4bcd-abd9-49245a5164d2",
   "metadata": {},
   "outputs": [],
   "source": []
  }
 ],
 "metadata": {
  "kernelspec": {
   "display_name": "Python (y venv)",
   "language": "python",
   "name": "yh"
  },
  "language_info": {
   "codemirror_mode": {
    "name": "ipython",
    "version": 3
   },
   "file_extension": ".py",
   "mimetype": "text/x-python",
   "name": "python",
   "nbconvert_exporter": "python",
   "pygments_lexer": "ipython3",
   "version": "3.10.12"
  }
 },
 "nbformat": 4,
 "nbformat_minor": 5
}
